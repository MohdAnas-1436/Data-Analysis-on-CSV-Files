{
 "cells": [
  {
   "cell_type": "code",
   "execution_count": null,
   "id": "edbbfccf",
   "metadata": {},
   "outputs": [],
   "source": [
    "import pandas as pd\n",
    "import matplotlib.pyplot as plt\n",
    "import seaborn as sns\n",
    "\n",
    "%matplotlib inline\n"
   ]
  },
  {
   "cell_type": "code",
   "execution_count": null,
   "id": "9a60f57a",
   "metadata": {},
   "outputs": [],
   "source": [
    "# Load the sales data CSV\n",
    "df = pd.read_csv(\"sample_sales_data.csv\")\n",
    "df.head()\n"
   ]
  },
  {
   "cell_type": "code",
   "execution_count": null,
   "id": "3cee193e",
   "metadata": {},
   "outputs": [],
   "source": [
    "# Dataset info and summary\n",
    "df.info()\n",
    "df.describe()\n",
    "df.isnull().sum()\n"
   ]
  },
  {
   "cell_type": "code",
   "execution_count": null,
   "id": "c58de593",
   "metadata": {},
   "outputs": [],
   "source": [
    "product_sales = df.groupby(\"Product\")[\"Sales\"].sum().sort_values(ascending=False)\n",
    "\n",
    "product_sales.plot(kind=\"bar\", figsize=(10, 5), title=\"Total Sales by Product\", color=\"skyblue\")\n",
    "plt.xlabel(\"Product\")\n",
    "plt.ylabel(\"Sales\")\n",
    "plt.xticks(rotation=45)\n",
    "plt.tight_layout()\n",
    "plt.show()\n"
   ]
  },
  {
   "cell_type": "code",
   "execution_count": null,
   "id": "c254bb62",
   "metadata": {},
   "outputs": [],
   "source": [
    "region_sales = df.groupby(\"Region\")[\"Sales\"].sum()\n",
    "\n",
    "region_sales.plot(kind=\"pie\", autopct=\"%1.1f%%\", figsize=(7, 7), title=\"Sales by Region\")\n",
    "plt.ylabel(\"\")\n",
    "plt.show()\n"
   ]
  },
  {
   "cell_type": "code",
   "execution_count": null,
   "id": "c99b0be8",
   "metadata": {},
   "outputs": [],
   "source": [
    "df[\"Date\"] = pd.to_datetime(df[\"Date\"])\n",
    "df[\"Month\"] = df[\"Date\"].dt.to_period(\"M\")\n",
    "\n",
    "monthly_sales = df.groupby(\"Month\")[\"Sales\"].sum()\n",
    "\n",
    "monthly_sales.plot(kind=\"line\", marker=\"o\", figsize=(10, 5), title=\"Monthly Sales Trend\")\n",
    "plt.ylabel(\"Sales\")\n",
    "plt.grid(True)\n",
    "plt.show()\n"
   ]
  },
  {
   "cell_type": "code",
   "execution_count": null,
   "id": "05c53078",
   "metadata": {},
   "outputs": [],
   "source": [
    "top_customers = df.groupby(\"Customer\")[\"Sales\"].sum().sort_values(ascending=False).head(5)\n",
    "\n",
    "top_customers.plot(kind=\"barh\", figsize=(8, 5), title=\"Top 5 Customers by Sales\", color=\"lightgreen\")\n",
    "plt.xlabel(\"Sales\")\n",
    "plt.ylabel(\"Customer\")\n",
    "plt.tight_layout()\n",
    "plt.show()\n"
   ]
  },
  {
   "cell_type": "code",
   "execution_count": null,
   "id": "a177f0e5",
   "metadata": {},
   "outputs": [],
   "source": [
    "sns.heatmap(df.corr(numeric_only=True), annot=True, cmap=\"coolwarm\")\n",
    "plt.title(\"Correlation Heatmap\")\n",
    "plt.show()\n"
   ]
  }
 ],
 "metadata": {},
 "nbformat": 4,
 "nbformat_minor": 5
}
